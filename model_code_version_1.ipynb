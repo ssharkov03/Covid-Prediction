{
 "cells": [
  {
   "cell_type": "markdown",
   "id": "db691d34",
   "metadata": {},
   "source": [
    "### Imports"
   ]
  },
  {
   "cell_type": "code",
   "execution_count": 30,
   "id": "3b6398a7",
   "metadata": {},
   "outputs": [],
   "source": [
    "import numpy as np\n",
    "import pandas as pd\n",
    "\n",
    "import joblib\n",
    "\n",
    "from sklearn.model_selection import train_test_split\n",
    "from sklearn.metrics import mean_absolute_error as MAE\n",
    "from xgboost import XGBRegressor\n",
    "from sklearn.model_selection import RepeatedKFold\n",
    "from sklearn.model_selection import cross_val_score\n",
    "from numpy import absolute"
   ]
  },
  {
   "cell_type": "markdown",
   "id": "8692ee58",
   "metadata": {},
   "source": [
    "### Dataset preprocessing "
   ]
  },
  {
   "cell_type": "code",
   "execution_count": 31,
   "id": "54d66c33",
   "metadata": {},
   "outputs": [],
   "source": [
    "df = pd.read_csv(\"data/covid_data_train.csv\")\n",
    "df.drop('Unnamed: 0', axis=1, inplace=True)"
   ]
  },
  {
   "cell_type": "markdown",
   "id": "1adc309d",
   "metadata": {},
   "source": [
    "#### Removing duplicates & rows with missed target variable"
   ]
  },
  {
   "cell_type": "code",
   "execution_count": 32,
   "id": "fcc8f7f7",
   "metadata": {},
   "outputs": [],
   "source": [
    "df = df.drop_duplicates(subset='name', keep=\"last\")\n",
    "df = df[df.inf_rate.isnull() == False]"
   ]
  },
  {
   "cell_type": "code",
   "execution_count": 33,
   "id": "5f5d8bc3",
   "metadata": {},
   "outputs": [
    {
     "data": {
      "text/html": [
       "<div>\n",
       "<style scoped>\n",
       "    .dataframe tbody tr th:only-of-type {\n",
       "        vertical-align: middle;\n",
       "    }\n",
       "\n",
       "    .dataframe tbody tr th {\n",
       "        vertical-align: top;\n",
       "    }\n",
       "\n",
       "    .dataframe thead th {\n",
       "        text-align: right;\n",
       "    }\n",
       "</style>\n",
       "<table border=\"1\" class=\"dataframe\">\n",
       "  <thead>\n",
       "    <tr style=\"text-align: right;\">\n",
       "      <th></th>\n",
       "      <th>lat</th>\n",
       "      <th>lng</th>\n",
       "      <th>name</th>\n",
       "      <th>population</th>\n",
       "      <th>district</th>\n",
       "      <th>subject</th>\n",
       "      <th>density</th>\n",
       "      <th>ivl_per_100k</th>\n",
       "      <th>ivl_number</th>\n",
       "      <th>ekmo_per_100k</th>\n",
       "      <th>...</th>\n",
       "      <th>epirank_avia</th>\n",
       "      <th>epirank_bus</th>\n",
       "      <th>epirank_train</th>\n",
       "      <th>epirank_avia_cat</th>\n",
       "      <th>epirank_bus_cat</th>\n",
       "      <th>epirank_train_cat</th>\n",
       "      <th>whole_population</th>\n",
       "      <th>urban</th>\n",
       "      <th>rural</th>\n",
       "      <th>has_metro</th>\n",
       "    </tr>\n",
       "  </thead>\n",
       "  <tbody>\n",
       "    <tr>\n",
       "      <th>0</th>\n",
       "      <td>52.651055</td>\n",
       "      <td>90.101159</td>\n",
       "      <td>Абаза</td>\n",
       "      <td>17111.0</td>\n",
       "      <td>Сибирский</td>\n",
       "      <td>Хакасия</td>\n",
       "      <td>8.68</td>\n",
       "      <td>NaN</td>\n",
       "      <td>NaN</td>\n",
       "      <td>NaN</td>\n",
       "      <td>...</td>\n",
       "      <td>NaN</td>\n",
       "      <td>2.278095e-11</td>\n",
       "      <td>NaN</td>\n",
       "      <td>NaN</td>\n",
       "      <td>0.0</td>\n",
       "      <td>NaN</td>\n",
       "      <td>64241.0</td>\n",
       "      <td>44921.0</td>\n",
       "      <td>19320.0</td>\n",
       "      <td>0.0</td>\n",
       "    </tr>\n",
       "    <tr>\n",
       "      <th>1</th>\n",
       "      <td>53.720902</td>\n",
       "      <td>91.442435</td>\n",
       "      <td>Абакан</td>\n",
       "      <td>165183.0</td>\n",
       "      <td>Сибирский</td>\n",
       "      <td>Хакасия</td>\n",
       "      <td>8.68</td>\n",
       "      <td>NaN</td>\n",
       "      <td>NaN</td>\n",
       "      <td>NaN</td>\n",
       "      <td>...</td>\n",
       "      <td>0.000903</td>\n",
       "      <td>8.343086e-10</td>\n",
       "      <td>0.001383</td>\n",
       "      <td>0.0</td>\n",
       "      <td>1.0</td>\n",
       "      <td>0.0</td>\n",
       "      <td>64241.0</td>\n",
       "      <td>44921.0</td>\n",
       "      <td>19320.0</td>\n",
       "      <td>0.0</td>\n",
       "    </tr>\n",
       "    <tr>\n",
       "      <th>2</th>\n",
       "      <td>53.682800</td>\n",
       "      <td>53.655701</td>\n",
       "      <td>Абдулино</td>\n",
       "      <td>20663.0</td>\n",
       "      <td>Приволжский</td>\n",
       "      <td>Оренбургская область</td>\n",
       "      <td>15.95</td>\n",
       "      <td>27.7</td>\n",
       "      <td>542.0</td>\n",
       "      <td>0.05</td>\n",
       "      <td>...</td>\n",
       "      <td>NaN</td>\n",
       "      <td>5.164813e-14</td>\n",
       "      <td>0.000376</td>\n",
       "      <td>NaN</td>\n",
       "      <td>0.0</td>\n",
       "      <td>0.0</td>\n",
       "      <td>270081.0</td>\n",
       "      <td>156761.0</td>\n",
       "      <td>113320.0</td>\n",
       "      <td>0.0</td>\n",
       "    </tr>\n",
       "    <tr>\n",
       "      <th>3</th>\n",
       "      <td>44.864953</td>\n",
       "      <td>38.157819</td>\n",
       "      <td>Абинск</td>\n",
       "      <td>34926.0</td>\n",
       "      <td>Южный</td>\n",
       "      <td>Краснодарский край</td>\n",
       "      <td>73.73</td>\n",
       "      <td>17.6</td>\n",
       "      <td>1000.0</td>\n",
       "      <td>0.07</td>\n",
       "      <td>...</td>\n",
       "      <td>NaN</td>\n",
       "      <td>1.187676e-14</td>\n",
       "      <td>0.000186</td>\n",
       "      <td>NaN</td>\n",
       "      <td>0.0</td>\n",
       "      <td>0.0</td>\n",
       "      <td>847286.0</td>\n",
       "      <td>452437.0</td>\n",
       "      <td>394849.0</td>\n",
       "      <td>0.0</td>\n",
       "    </tr>\n",
       "    <tr>\n",
       "      <th>4</th>\n",
       "      <td>56.525460</td>\n",
       "      <td>52.997251</td>\n",
       "      <td>Агрыз</td>\n",
       "      <td>19299.0</td>\n",
       "      <td>Приволжский</td>\n",
       "      <td>Татарстан</td>\n",
       "      <td>57.27</td>\n",
       "      <td>28.2</td>\n",
       "      <td>1100.0</td>\n",
       "      <td>0.00</td>\n",
       "      <td>...</td>\n",
       "      <td>NaN</td>\n",
       "      <td>4.750316e-13</td>\n",
       "      <td>0.001003</td>\n",
       "      <td>NaN</td>\n",
       "      <td>0.0</td>\n",
       "      <td>0.0</td>\n",
       "      <td>527462.0</td>\n",
       "      <td>371965.0</td>\n",
       "      <td>155497.0</td>\n",
       "      <td>0.0</td>\n",
       "    </tr>\n",
       "  </tbody>\n",
       "</table>\n",
       "<p>5 rows × 120 columns</p>\n",
       "</div>"
      ],
      "text/plain": [
       "         lat        lng      name  population     district  \\\n",
       "0  52.651055  90.101159     Абаза     17111.0    Сибирский   \n",
       "1  53.720902  91.442435    Абакан    165183.0    Сибирский   \n",
       "2  53.682800  53.655701  Абдулино     20663.0  Приволжский   \n",
       "3  44.864953  38.157819    Абинск     34926.0        Южный   \n",
       "4  56.525460  52.997251     Агрыз     19299.0  Приволжский   \n",
       "\n",
       "                subject  density  ivl_per_100k  ivl_number  ekmo_per_100k  \\\n",
       "0               Хакасия     8.68           NaN         NaN            NaN   \n",
       "1               Хакасия     8.68           NaN         NaN            NaN   \n",
       "2  Оренбургская область    15.95          27.7       542.0           0.05   \n",
       "3    Краснодарский край    73.73          17.6      1000.0           0.07   \n",
       "4             Татарстан    57.27          28.2      1100.0           0.00   \n",
       "\n",
       "   ...  epirank_avia   epirank_bus  epirank_train  epirank_avia_cat  \\\n",
       "0  ...           NaN  2.278095e-11            NaN               NaN   \n",
       "1  ...      0.000903  8.343086e-10       0.001383               0.0   \n",
       "2  ...           NaN  5.164813e-14       0.000376               NaN   \n",
       "3  ...           NaN  1.187676e-14       0.000186               NaN   \n",
       "4  ...           NaN  4.750316e-13       0.001003               NaN   \n",
       "\n",
       "   epirank_bus_cat  epirank_train_cat  whole_population     urban     rural  \\\n",
       "0              0.0                NaN           64241.0   44921.0   19320.0   \n",
       "1              1.0                0.0           64241.0   44921.0   19320.0   \n",
       "2              0.0                0.0          270081.0  156761.0  113320.0   \n",
       "3              0.0                0.0          847286.0  452437.0  394849.0   \n",
       "4              0.0                0.0          527462.0  371965.0  155497.0   \n",
       "\n",
       "   has_metro  \n",
       "0        0.0  \n",
       "1        0.0  \n",
       "2        0.0  \n",
       "3        0.0  \n",
       "4        0.0  \n",
       "\n",
       "[5 rows x 120 columns]"
      ]
     },
     "execution_count": 33,
     "metadata": {},
     "output_type": "execute_result"
    }
   ],
   "source": [
    "df.head()"
   ]
  },
  {
   "cell_type": "markdown",
   "id": "b3b9d7ed",
   "metadata": {},
   "source": [
    "#### Deciding what columns to take\n",
    "Согласно https://docs.google.com/document/d/1BdrdrtFyiVLmMER_H4e2BxsyiMZzP3Pipsq2bZHnXjo/edit?usp=sharing (Feature Importance после использования Random Forest Regressor) было решено не использовать категориальные переменные - ___name, district, subject, region_x___, во-первых, потому что их значимость оказалось очень низкой, а во-вторых, потому что по идее результат предсказания не должен зависеть от названия населенного пункта, что и подтвердилось ранее. Также было решено отказаться от бинарной переменной ***___has_metro___***, потому что она имеет маленькую значимость.  \n",
    "Поэтому берем только numerical колонки для обучения."
   ]
  },
  {
   "cell_type": "code",
   "execution_count": 34,
   "id": "b474a950",
   "metadata": {},
   "outputs": [],
   "source": [
    "numerical_df = df.select_dtypes(include=np.number).drop('has_metro', axis=1)"
   ]
  },
  {
   "cell_type": "markdown",
   "id": "aff9fdbf",
   "metadata": {},
   "source": [
    "#### Deleting columns containing >= 50% NaN values (optional)"
   ]
  },
  {
   "cell_type": "code",
   "execution_count": 35,
   "id": "8c424bfa",
   "metadata": {},
   "outputs": [
    {
     "data": {
      "text/html": [
       "<div>\n",
       "<style scoped>\n",
       "    .dataframe tbody tr th:only-of-type {\n",
       "        vertical-align: middle;\n",
       "    }\n",
       "\n",
       "    .dataframe tbody tr th {\n",
       "        vertical-align: top;\n",
       "    }\n",
       "\n",
       "    .dataframe thead th {\n",
       "        text-align: right;\n",
       "    }\n",
       "</style>\n",
       "<table border=\"1\" class=\"dataframe\">\n",
       "  <thead>\n",
       "    <tr style=\"text-align: right;\">\n",
       "      <th></th>\n",
       "      <th>lat</th>\n",
       "      <th>lng</th>\n",
       "      <th>population</th>\n",
       "      <th>density</th>\n",
       "      <th>ivl_per_100k</th>\n",
       "      <th>ivl_number</th>\n",
       "      <th>ekmo_per_100k</th>\n",
       "      <th>inf_rate</th>\n",
       "      <th>avg_temp_min</th>\n",
       "      <th>avg_temp_max</th>\n",
       "      <th>...</th>\n",
       "      <th>num_phones_urban_2019</th>\n",
       "      <th>bus_march_travel_18</th>\n",
       "      <th>bus_april_travel_18</th>\n",
       "      <th>epirank_bus</th>\n",
       "      <th>epirank_train</th>\n",
       "      <th>epirank_bus_cat</th>\n",
       "      <th>epirank_train_cat</th>\n",
       "      <th>whole_population</th>\n",
       "      <th>urban</th>\n",
       "      <th>rural</th>\n",
       "    </tr>\n",
       "  </thead>\n",
       "  <tbody>\n",
       "    <tr>\n",
       "      <th>0</th>\n",
       "      <td>52.651055</td>\n",
       "      <td>90.101159</td>\n",
       "      <td>17111.0</td>\n",
       "      <td>8.68</td>\n",
       "      <td>NaN</td>\n",
       "      <td>NaN</td>\n",
       "      <td>NaN</td>\n",
       "      <td>1.386294</td>\n",
       "      <td>-12.29</td>\n",
       "      <td>5.57</td>\n",
       "      <td>...</td>\n",
       "      <td>16199.99</td>\n",
       "      <td>21414.0</td>\n",
       "      <td>22186.0</td>\n",
       "      <td>2.278095e-11</td>\n",
       "      <td>NaN</td>\n",
       "      <td>0.0</td>\n",
       "      <td>NaN</td>\n",
       "      <td>64241.0</td>\n",
       "      <td>44921.0</td>\n",
       "      <td>19320.0</td>\n",
       "    </tr>\n",
       "    <tr>\n",
       "      <th>1</th>\n",
       "      <td>53.720902</td>\n",
       "      <td>91.442435</td>\n",
       "      <td>165183.0</td>\n",
       "      <td>8.68</td>\n",
       "      <td>NaN</td>\n",
       "      <td>NaN</td>\n",
       "      <td>NaN</td>\n",
       "      <td>1.386294</td>\n",
       "      <td>-12.29</td>\n",
       "      <td>5.57</td>\n",
       "      <td>...</td>\n",
       "      <td>16199.99</td>\n",
       "      <td>21414.0</td>\n",
       "      <td>22186.0</td>\n",
       "      <td>8.343086e-10</td>\n",
       "      <td>0.001383</td>\n",
       "      <td>1.0</td>\n",
       "      <td>0.0</td>\n",
       "      <td>64241.0</td>\n",
       "      <td>44921.0</td>\n",
       "      <td>19320.0</td>\n",
       "    </tr>\n",
       "    <tr>\n",
       "      <th>2</th>\n",
       "      <td>53.682800</td>\n",
       "      <td>53.655701</td>\n",
       "      <td>20663.0</td>\n",
       "      <td>15.95</td>\n",
       "      <td>27.7</td>\n",
       "      <td>542.0</td>\n",
       "      <td>0.05</td>\n",
       "      <td>2.079442</td>\n",
       "      <td>-6.71</td>\n",
       "      <td>5.71</td>\n",
       "      <td>...</td>\n",
       "      <td>106326.00</td>\n",
       "      <td>135226.1</td>\n",
       "      <td>133554.9</td>\n",
       "      <td>5.164813e-14</td>\n",
       "      <td>0.000376</td>\n",
       "      <td>0.0</td>\n",
       "      <td>0.0</td>\n",
       "      <td>270081.0</td>\n",
       "      <td>156761.0</td>\n",
       "      <td>113320.0</td>\n",
       "    </tr>\n",
       "    <tr>\n",
       "      <th>3</th>\n",
       "      <td>44.864953</td>\n",
       "      <td>38.157819</td>\n",
       "      <td>34926.0</td>\n",
       "      <td>73.73</td>\n",
       "      <td>17.6</td>\n",
       "      <td>1000.0</td>\n",
       "      <td>0.07</td>\n",
       "      <td>2.890372</td>\n",
       "      <td>5.14</td>\n",
       "      <td>16.86</td>\n",
       "      <td>...</td>\n",
       "      <td>315344.00</td>\n",
       "      <td>329792.1</td>\n",
       "      <td>328273.8</td>\n",
       "      <td>1.187676e-14</td>\n",
       "      <td>0.000186</td>\n",
       "      <td>0.0</td>\n",
       "      <td>0.0</td>\n",
       "      <td>847286.0</td>\n",
       "      <td>452437.0</td>\n",
       "      <td>394849.0</td>\n",
       "    </tr>\n",
       "    <tr>\n",
       "      <th>4</th>\n",
       "      <td>56.525460</td>\n",
       "      <td>52.997251</td>\n",
       "      <td>19299.0</td>\n",
       "      <td>57.27</td>\n",
       "      <td>28.2</td>\n",
       "      <td>1100.0</td>\n",
       "      <td>0.00</td>\n",
       "      <td>2.708050</td>\n",
       "      <td>-2.14</td>\n",
       "      <td>5.00</td>\n",
       "      <td>...</td>\n",
       "      <td>144303.99</td>\n",
       "      <td>157885.0</td>\n",
       "      <td>162064.9</td>\n",
       "      <td>4.750316e-13</td>\n",
       "      <td>0.001003</td>\n",
       "      <td>0.0</td>\n",
       "      <td>0.0</td>\n",
       "      <td>527462.0</td>\n",
       "      <td>371965.0</td>\n",
       "      <td>155497.0</td>\n",
       "    </tr>\n",
       "  </tbody>\n",
       "</table>\n",
       "<p>5 rows × 101 columns</p>\n",
       "</div>"
      ],
      "text/plain": [
       "         lat        lng  population  density  ivl_per_100k  ivl_number  \\\n",
       "0  52.651055  90.101159     17111.0     8.68           NaN         NaN   \n",
       "1  53.720902  91.442435    165183.0     8.68           NaN         NaN   \n",
       "2  53.682800  53.655701     20663.0    15.95          27.7       542.0   \n",
       "3  44.864953  38.157819     34926.0    73.73          17.6      1000.0   \n",
       "4  56.525460  52.997251     19299.0    57.27          28.2      1100.0   \n",
       "\n",
       "   ekmo_per_100k  inf_rate  avg_temp_min  avg_temp_max  ...  \\\n",
       "0            NaN  1.386294        -12.29          5.57  ...   \n",
       "1            NaN  1.386294        -12.29          5.57  ...   \n",
       "2           0.05  2.079442         -6.71          5.71  ...   \n",
       "3           0.07  2.890372          5.14         16.86  ...   \n",
       "4           0.00  2.708050         -2.14          5.00  ...   \n",
       "\n",
       "   num_phones_urban_2019  bus_march_travel_18  bus_april_travel_18  \\\n",
       "0               16199.99              21414.0              22186.0   \n",
       "1               16199.99              21414.0              22186.0   \n",
       "2              106326.00             135226.1             133554.9   \n",
       "3              315344.00             329792.1             328273.8   \n",
       "4              144303.99             157885.0             162064.9   \n",
       "\n",
       "    epirank_bus  epirank_train  epirank_bus_cat  epirank_train_cat  \\\n",
       "0  2.278095e-11            NaN              0.0                NaN   \n",
       "1  8.343086e-10       0.001383              1.0                0.0   \n",
       "2  5.164813e-14       0.000376              0.0                0.0   \n",
       "3  1.187676e-14       0.000186              0.0                0.0   \n",
       "4  4.750316e-13       0.001003              0.0                0.0   \n",
       "\n",
       "   whole_population     urban     rural  \n",
       "0           64241.0   44921.0   19320.0  \n",
       "1           64241.0   44921.0   19320.0  \n",
       "2          270081.0  156761.0  113320.0  \n",
       "3          847286.0  452437.0  394849.0  \n",
       "4          527462.0  371965.0  155497.0  \n",
       "\n",
       "[5 rows x 101 columns]"
      ]
     },
     "execution_count": 35,
     "metadata": {},
     "output_type": "execute_result"
    }
   ],
   "source": [
    "# Delete columns containing either 50% or more than 50% NaN Values\n",
    "perc = 50.0\n",
    "min_count =  int(((100-perc)/100)*numerical_df.shape[0] + 1)\n",
    "mod_df = numerical_df.dropna( axis=1, \n",
    "                thresh=min_count)\n",
    "\n",
    "numerical_df = mod_df\n",
    "numerical_df.head()"
   ]
  },
  {
   "cell_type": "code",
   "execution_count": 36,
   "id": "dbf4e1ae",
   "metadata": {},
   "outputs": [],
   "source": [
    "# Optional filling NaN in modified df\n",
    "for i in mod_df.columns[mod_df.isnull().any(axis=0)]: \n",
    "    mod_df[i].fillna(mod_df[i].mean(),inplace=True)\n",
    "numerical_df = mod_df"
   ]
  },
  {
   "cell_type": "markdown",
   "id": "db1bd888",
   "metadata": {},
   "source": [
    "#### Train/Test split\n",
    "Сразу делаем разбиение на тестовую и тренировочную выборки. \n",
    "Это связано с выбором дальнейшей модели для обучения. Было решено далее работать с бустинг-моделями, в нашем случае - с xgboost, так как согласно данной статье https://link.medium.com/X5egHCVBHrb, они могут и олично работают с данными в которых есть пропущенные значения, и стратегия использовать именно бустинг-модели позволяет работать с неполным набором признаков (то есть, если в реальной ситуации окажется что некоторые признаки, необходимые для получения предсказания отсутствуют, то их значения можно просто заменять NaN и подавать на вход модели, поэтому использование бустинг-моделей и становится рациональным, потому что реальная ситуация не идеальна и многие признаки могут просто отсутствовать). Кроме того, использование бустинг-моделей не предполагает стандартизации данных https://stats.stackexchange.com/questions/485677/does-xgboost-require-standarized-data, что также является плюсом."
   ]
  },
  {
   "cell_type": "code",
   "execution_count": 37,
   "id": "7dcad92f",
   "metadata": {},
   "outputs": [],
   "source": [
    "y = numerical_df.inf_rate\n",
    "numerical_df.drop(\"inf_rate\", axis=1, inplace=True)"
   ]
  },
  {
   "cell_type": "code",
   "execution_count": 38,
   "id": "de559fda",
   "metadata": {},
   "outputs": [
    {
     "data": {
      "text/plain": [
       "((395, 100), (395,))"
      ]
     },
     "execution_count": 38,
     "metadata": {},
     "output_type": "execute_result"
    }
   ],
   "source": [
    "numerical_df.shape, y.shape"
   ]
  },
  {
   "cell_type": "code",
   "execution_count": 39,
   "id": "18c642cc",
   "metadata": {},
   "outputs": [],
   "source": [
    "X = numerical_df\n",
    "X_train, X_test, y_train, y_test = train_test_split(X, y, test_size=0.1, shuffle=True, random_state=2019)"
   ]
  },
  {
   "cell_type": "markdown",
   "id": "81060e29",
   "metadata": {},
   "source": [
    "### Training model (xgBoost)"
   ]
  },
  {
   "cell_type": "markdown",
   "id": "7433f666",
   "metadata": {},
   "source": [
    "#### Getting cross_val_score on train data "
   ]
  },
  {
   "cell_type": "code",
   "execution_count": 40,
   "id": "933c6e99",
   "metadata": {},
   "outputs": [
    {
     "name": "stdout",
     "output_type": "stream",
     "text": [
      "Mean MAE: 0.021 (0.022)\n"
     ]
    }
   ],
   "source": [
    "model1 = XGBRegressor(eval_metric='mae')\n",
    "# define model evaluation method\n",
    "cv = RepeatedKFold(n_splits=10, n_repeats=3, random_state=1)\n",
    "# evaluate model\n",
    "scores = cross_val_score(model1, X_train, y_train, scoring='neg_mean_absolute_error', cv=cv, n_jobs=-1)\n",
    "# force scores to be positive\n",
    "scores = absolute(scores)\n",
    "print('Mean MAE: %.3f (%.3f)' % (scores.mean(), scores.std()) )"
   ]
  },
  {
   "cell_type": "markdown",
   "id": "4ab44b42",
   "metadata": {},
   "source": [
    "#### Getting MAE score on test data"
   ]
  },
  {
   "cell_type": "code",
   "execution_count": 41,
   "id": "ffd63017",
   "metadata": {},
   "outputs": [
    {
     "name": "stdout",
     "output_type": "stream",
     "text": [
      "0.006910315506914175\n"
     ]
    }
   ],
   "source": [
    "model = XGBRegressor(eval_metric='mae')\n",
    "model.fit(X_train, y_train)\n",
    "y_pred = model.predict(X_test)\n",
    "print(MAE(y_test, y_pred))"
   ]
  },
  {
   "cell_type": "markdown",
   "id": "a4651e48",
   "metadata": {},
   "source": [
    "#### Getting cross_val_score on all data"
   ]
  },
  {
   "cell_type": "code",
   "execution_count": 42,
   "id": "ad0e8b48",
   "metadata": {},
   "outputs": [
    {
     "name": "stdout",
     "output_type": "stream",
     "text": [
      "Mean MAE: 0.014 (0.017)\n"
     ]
    }
   ],
   "source": [
    "model2 = XGBRegressor(eval_metric='mae')\n",
    "# define model evaluation method\n",
    "cv = RepeatedKFold(n_splits=10, n_repeats=3, random_state=1)\n",
    "# evaluate model\n",
    "scores = cross_val_score(model2, X, y, scoring='neg_mean_absolute_error', cv=cv, n_jobs=-1)\n",
    "# force scores to be positive\n",
    "scores = absolute(scores)\n",
    "print('Mean MAE: %.3f (%.3f)' % (scores.mean(), scores.std()) )"
   ]
  },
  {
   "cell_type": "markdown",
   "id": "87665428",
   "metadata": {},
   "source": [
    "#### Fitting on all data"
   ]
  },
  {
   "cell_type": "code",
   "execution_count": 44,
   "id": "6cddee97",
   "metadata": {},
   "outputs": [
    {
     "data": {
      "text/html": [
       "<style>#sk-container-id-3 {color: black;background-color: white;}#sk-container-id-3 pre{padding: 0;}#sk-container-id-3 div.sk-toggleable {background-color: white;}#sk-container-id-3 label.sk-toggleable__label {cursor: pointer;display: block;width: 100%;margin-bottom: 0;padding: 0.3em;box-sizing: border-box;text-align: center;}#sk-container-id-3 label.sk-toggleable__label-arrow:before {content: \"▸\";float: left;margin-right: 0.25em;color: #696969;}#sk-container-id-3 label.sk-toggleable__label-arrow:hover:before {color: black;}#sk-container-id-3 div.sk-estimator:hover label.sk-toggleable__label-arrow:before {color: black;}#sk-container-id-3 div.sk-toggleable__content {max-height: 0;max-width: 0;overflow: hidden;text-align: left;background-color: #f0f8ff;}#sk-container-id-3 div.sk-toggleable__content pre {margin: 0.2em;color: black;border-radius: 0.25em;background-color: #f0f8ff;}#sk-container-id-3 input.sk-toggleable__control:checked~div.sk-toggleable__content {max-height: 200px;max-width: 100%;overflow: auto;}#sk-container-id-3 input.sk-toggleable__control:checked~label.sk-toggleable__label-arrow:before {content: \"▾\";}#sk-container-id-3 div.sk-estimator input.sk-toggleable__control:checked~label.sk-toggleable__label {background-color: #d4ebff;}#sk-container-id-3 div.sk-label input.sk-toggleable__control:checked~label.sk-toggleable__label {background-color: #d4ebff;}#sk-container-id-3 input.sk-hidden--visually {border: 0;clip: rect(1px 1px 1px 1px);clip: rect(1px, 1px, 1px, 1px);height: 1px;margin: -1px;overflow: hidden;padding: 0;position: absolute;width: 1px;}#sk-container-id-3 div.sk-estimator {font-family: monospace;background-color: #f0f8ff;border: 1px dotted black;border-radius: 0.25em;box-sizing: border-box;margin-bottom: 0.5em;}#sk-container-id-3 div.sk-estimator:hover {background-color: #d4ebff;}#sk-container-id-3 div.sk-parallel-item::after {content: \"\";width: 100%;border-bottom: 1px solid gray;flex-grow: 1;}#sk-container-id-3 div.sk-label:hover label.sk-toggleable__label {background-color: #d4ebff;}#sk-container-id-3 div.sk-serial::before {content: \"\";position: absolute;border-left: 1px solid gray;box-sizing: border-box;top: 0;bottom: 0;left: 50%;z-index: 0;}#sk-container-id-3 div.sk-serial {display: flex;flex-direction: column;align-items: center;background-color: white;padding-right: 0.2em;padding-left: 0.2em;position: relative;}#sk-container-id-3 div.sk-item {position: relative;z-index: 1;}#sk-container-id-3 div.sk-parallel {display: flex;align-items: stretch;justify-content: center;background-color: white;position: relative;}#sk-container-id-3 div.sk-item::before, #sk-container-id-3 div.sk-parallel-item::before {content: \"\";position: absolute;border-left: 1px solid gray;box-sizing: border-box;top: 0;bottom: 0;left: 50%;z-index: -1;}#sk-container-id-3 div.sk-parallel-item {display: flex;flex-direction: column;z-index: 1;position: relative;background-color: white;}#sk-container-id-3 div.sk-parallel-item:first-child::after {align-self: flex-end;width: 50%;}#sk-container-id-3 div.sk-parallel-item:last-child::after {align-self: flex-start;width: 50%;}#sk-container-id-3 div.sk-parallel-item:only-child::after {width: 0;}#sk-container-id-3 div.sk-dashed-wrapped {border: 1px dashed gray;margin: 0 0.4em 0.5em 0.4em;box-sizing: border-box;padding-bottom: 0.4em;background-color: white;}#sk-container-id-3 div.sk-label label {font-family: monospace;font-weight: bold;display: inline-block;line-height: 1.2em;}#sk-container-id-3 div.sk-label-container {text-align: center;}#sk-container-id-3 div.sk-container {/* jupyter's `normalize.less` sets `[hidden] { display: none; }` but bootstrap.min.css set `[hidden] { display: none !important; }` so we also need the `!important` here to be able to override the default hidden behavior on the sphinx rendered scikit-learn.org. See: https://github.com/scikit-learn/scikit-learn/issues/21755 */display: inline-block !important;position: relative;}#sk-container-id-3 div.sk-text-repr-fallback {display: none;}</style><div id=\"sk-container-id-3\" class=\"sk-top-container\"><div class=\"sk-text-repr-fallback\"><pre>XGBRegressor(base_score=0.5, booster=&#x27;gbtree&#x27;, callbacks=None,\n",
       "             colsample_bylevel=1, colsample_bynode=1, colsample_bytree=1,\n",
       "             early_stopping_rounds=None, enable_categorical=False,\n",
       "             eval_metric=&#x27;mae&#x27;, gamma=0, gpu_id=-1, grow_policy=&#x27;depthwise&#x27;,\n",
       "             importance_type=None, interaction_constraints=&#x27;&#x27;,\n",
       "             learning_rate=0.300000012, max_bin=256, max_cat_to_onehot=4,\n",
       "             max_delta_step=0, max_depth=6, max_leaves=0, min_child_weight=1,\n",
       "             missing=nan, monotone_constraints=&#x27;()&#x27;, n_estimators=100, n_jobs=0,\n",
       "             num_parallel_tree=1, predictor=&#x27;auto&#x27;, random_state=0, reg_alpha=0,\n",
       "             reg_lambda=1, ...)</pre><b>In a Jupyter environment, please rerun this cell to show the HTML representation or trust the notebook. <br />On GitHub, the HTML representation is unable to render, please try loading this page with nbviewer.org.</b></div><div class=\"sk-container\" hidden><div class=\"sk-item\"><div class=\"sk-estimator sk-toggleable\"><input class=\"sk-toggleable__control sk-hidden--visually\" id=\"sk-estimator-id-3\" type=\"checkbox\" checked><label for=\"sk-estimator-id-3\" class=\"sk-toggleable__label sk-toggleable__label-arrow\">XGBRegressor</label><div class=\"sk-toggleable__content\"><pre>XGBRegressor(base_score=0.5, booster=&#x27;gbtree&#x27;, callbacks=None,\n",
       "             colsample_bylevel=1, colsample_bynode=1, colsample_bytree=1,\n",
       "             early_stopping_rounds=None, enable_categorical=False,\n",
       "             eval_metric=&#x27;mae&#x27;, gamma=0, gpu_id=-1, grow_policy=&#x27;depthwise&#x27;,\n",
       "             importance_type=None, interaction_constraints=&#x27;&#x27;,\n",
       "             learning_rate=0.300000012, max_bin=256, max_cat_to_onehot=4,\n",
       "             max_delta_step=0, max_depth=6, max_leaves=0, min_child_weight=1,\n",
       "             missing=nan, monotone_constraints=&#x27;()&#x27;, n_estimators=100, n_jobs=0,\n",
       "             num_parallel_tree=1, predictor=&#x27;auto&#x27;, random_state=0, reg_alpha=0,\n",
       "             reg_lambda=1, ...)</pre></div></div></div></div></div>"
      ],
      "text/plain": [
       "XGBRegressor(base_score=0.5, booster='gbtree', callbacks=None,\n",
       "             colsample_bylevel=1, colsample_bynode=1, colsample_bytree=1,\n",
       "             early_stopping_rounds=None, enable_categorical=False,\n",
       "             eval_metric='mae', gamma=0, gpu_id=-1, grow_policy='depthwise',\n",
       "             importance_type=None, interaction_constraints='',\n",
       "             learning_rate=0.300000012, max_bin=256, max_cat_to_onehot=4,\n",
       "             max_delta_step=0, max_depth=6, max_leaves=0, min_child_weight=1,\n",
       "             missing=nan, monotone_constraints='()', n_estimators=100, n_jobs=0,\n",
       "             num_parallel_tree=1, predictor='auto', random_state=0, reg_alpha=0,\n",
       "             reg_lambda=1, ...)"
      ]
     },
     "execution_count": 44,
     "metadata": {},
     "output_type": "execute_result"
    }
   ],
   "source": [
    "model = XGBRegressor(eval_metric='mae')\n",
    "model.fit(X, y)"
   ]
  },
  {
   "cell_type": "markdown",
   "id": "33ecdd0a",
   "metadata": {},
   "source": [
    "#### Saving model"
   ]
  },
  {
   "cell_type": "code",
   "execution_count": 45,
   "id": "e62e3d60",
   "metadata": {},
   "outputs": [
    {
     "data": {
      "text/plain": [
       "['XGBmodel.joblib']"
      ]
     },
     "execution_count": 45,
     "metadata": {},
     "output_type": "execute_result"
    }
   ],
   "source": [
    "joblib.dump(model, \"XGBmodel.joblib\") "
   ]
  }
 ],
 "metadata": {
  "hide_input": false,
  "kernelspec": {
   "display_name": "Hakaton1",
   "language": "python",
   "name": "hakaton1"
  },
  "language_info": {
   "codemirror_mode": {
    "name": "ipython",
    "version": 3
   },
   "file_extension": ".py",
   "mimetype": "text/x-python",
   "name": "python",
   "nbconvert_exporter": "python",
   "pygments_lexer": "ipython3",
   "version": "3.10.4"
  },
  "toc": {
   "base_numbering": 1,
   "nav_menu": {},
   "number_sections": true,
   "sideBar": true,
   "skip_h1_title": false,
   "title_cell": "Table of Contents",
   "title_sidebar": "Contents",
   "toc_cell": false,
   "toc_position": {
    "height": "calc(100% - 180px)",
    "left": "10px",
    "top": "150px",
    "width": "281.825px"
   },
   "toc_section_display": true,
   "toc_window_display": true
  },
  "varInspector": {
   "cols": {
    "lenName": 16,
    "lenType": 16,
    "lenVar": 40
   },
   "kernels_config": {
    "python": {
     "delete_cmd_postfix": "",
     "delete_cmd_prefix": "del ",
     "library": "var_list.py",
     "varRefreshCmd": "print(var_dic_list())"
    },
    "r": {
     "delete_cmd_postfix": ") ",
     "delete_cmd_prefix": "rm(",
     "library": "var_list.r",
     "varRefreshCmd": "cat(var_dic_list()) "
    }
   },
   "position": {
    "height": "385.825px",
    "left": "1166px",
    "right": "20px",
    "top": "5px",
    "width": "537px"
   },
   "types_to_exclude": [
    "module",
    "function",
    "builtin_function_or_method",
    "instance",
    "_Feature"
   ],
   "window_display": false
  }
 },
 "nbformat": 4,
 "nbformat_minor": 5
}
